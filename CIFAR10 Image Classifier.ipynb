version https://git-lfs.github.com/spec/v1
oid sha256:58098b7310b922b25cc49406430518c3db1ef4cc538407805fb152d60188ed66
size 2630
