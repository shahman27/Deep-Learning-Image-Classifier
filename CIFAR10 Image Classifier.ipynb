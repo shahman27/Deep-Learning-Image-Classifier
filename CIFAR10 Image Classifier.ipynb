version https://git-lfs.github.com/spec/v1
oid sha256:4b0537e16fbf32bf6046332b3542a0ae6acd895be3632b555f5d18db85004127
size 2246
