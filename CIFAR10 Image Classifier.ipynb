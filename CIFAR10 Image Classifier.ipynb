version https://git-lfs.github.com/spec/v1
oid sha256:1211565c38cf2ba1dc1f4e1c3e4ec49cf9b68bf08c2548b65e655c9dacc19d9b
size 1636
