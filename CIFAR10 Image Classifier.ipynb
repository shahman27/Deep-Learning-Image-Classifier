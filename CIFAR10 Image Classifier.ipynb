version https://git-lfs.github.com/spec/v1
oid sha256:1859aaf8372935aaaf1bd2f29ebf0346730e594948ed1cbddb1781adc4c00b24
size 7071
