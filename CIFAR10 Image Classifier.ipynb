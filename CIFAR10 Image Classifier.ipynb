version https://git-lfs.github.com/spec/v1
oid sha256:a61fec5026b90e0ac4ef32837c4d47c56b706a393f6d15f838a0c09936c71915
size 7368
